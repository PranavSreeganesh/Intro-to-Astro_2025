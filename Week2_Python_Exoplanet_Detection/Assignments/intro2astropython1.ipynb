{
 "cells": [
  {
   "cell_type": "code",
   "execution_count": 7,
   "id": "443d90f6-5bf5-4f6c-8dc4-aa9001872117",
   "metadata": {},
   "outputs": [],
   "source": [
    "import numpy as np\n",
    "import matplotlib.pyplot as plt\n",
    "#Here we are telling python to use these libraries to understand our code and giving names to the libraries so that it is shorter\n",
    "\n",
    "print('Hello World')\n",
    "#asking python to print hello world\n",
    "\n",
    "a,b = 3,4\n",
    "#defining variables a = 3 and b = 4\n",
    "\n",
    "print('Product of a and b is ',a*b)\n",
    "#asking python to print \"Product of a and b\" then asking it to calculate a times b and print it after this\n",
    "\n",
    "a = np.linspace(-100,100,1000) \n",
    "#creating an array starting from -100 to 100 with 1000 evenly spaced numbers\n",
    "\n",
    "b = 2*a**2 + 5\n",
    "#for each a b is being defined\n",
    "\n",
    "plt.plot(a,b,'-k')\n",
    "#plotting a and b with a in the x axis and b in y axis in black colour\n",
    "\n",
    "plt.show()\n",
    "#asking python to show the plotted graph\n",
    "\n",
    "from astropy.io import fits\n",
    "#we are asking python to import fits from astropy.io\n",
    "\n",
    "file_dir = 'data/'\n",
    "img_name = 'pdi_pi_collapsed.fits'\n",
    "#we are defining the directory and the file name to be used\n",
    "\n",
    "img = fits.getdata(file_dir+img_name,ext=1)\n",
    "#using the definined directory and file name, we are getting the data from extension 1 and naming it as img\n",
    "\n",
    "fig = plt.figure(figsize=(8,8))\n",
    "#creating a figure\n",
    "\n",
    "image = plt.imshow(img, origin = 'lower', vmin=-0.001, vmax=0.01)\n",
    "#plotting image in the figure, with origin on the bottom left and set the colour scale range for pixel values and the result is saved as image\n",
    "\n",
    "cbar = fig.colorbar(image,shrink=0.82)\n",
    "#adds a colour bar to the image\n",
    "\n",
    "cbar.set_label('Surface Brightness (arb. units)', rotation=90,fontsize=12)\n",
    "#colour bar is now vertical, labelled with text of font size 12\n",
    "\n",
    "plt.xlim([60,140])\n",
    "plt.ylim([60,140])\n",
    "#x and y limits are specified\n",
    "\n",
    "plt.xlabel(r'$\\Delta$ RA [px]',fontsize=12)\n",
    "plt.ylabel(r'$\\Delta$ Dec [px]',fontsize=12);\n",
    "#x and y axes are labelled\n",
    "\n",
    "plt.savefig('final_image.png', dpi = 300)\n",
    "#saves the image with dpi 300\n",
    "\n",
    "\n",
    "\n",
    "\n"
   ]
  },
  {
   "cell_type": "code",
   "execution_count": null,
   "id": "6ea3e145-ceba-4757-b1d9-8332d79a70b9",
   "metadata": {},
   "outputs": [],
   "source": [
    "import pandas as pd\n",
    "#imports pandas library as pd\n",
    "\n",
    "stellar=pd.read_csv(file_dir+'closest20kstars.csv')\n",
    "#reding a csv file of closest 20k stars\n",
    "\n",
    "fig = plt.figure(figsize = [10,10])\n",
    "#creating a plt figure\n",
    "\n",
    "plt.scatter(stellar['ra'], stellar['dec'], alpha=0.8, s=12, lw = 0.5, ec = 'k', color='darkorchid')\n",
    "#plots a scatter graph with right ascension on the x axis and the declination on the y axis, transparency as 0.8, linewidth 0.5, colour of each point, and edge colour\n",
    "\n",
    "plt.xlim([0,362])\n",
    "plt.ylim([-75,75])\n",
    "#defining limits for x and y\n",
    "\n",
    "plt.xlabel('RA [$\\degree$]', fontsize = 14)\n",
    "plt.ylabel('Dec [$\\degree$]', fontsize = 14)\n",
    "plt.title('Closest Stars 20,000 stars from Gaia Archive (DR2)', fontsize = 16)\n",
    "#giving titles to the axes and the graph\n",
    "\n",
    "plt.savefig('closest20kstars.png', dpi = 300)\n",
    "\n",
    "\n"
   ]
  },
  {
   "cell_type": "code",
   "execution_count": 7,
   "id": "53579ab5-fe01-4681-a795-cd70ef1fa9c1",
   "metadata": {},
   "outputs": [
    {
     "name": "stdin",
     "output_type": "stream",
     "text": [
      "Enter the term till which you want the fibonacci series to be displayed:  12\n"
     ]
    },
    {
     "name": "stdout",
     "output_type": "stream",
     "text": [
      "0\n",
      "1\n",
      "1\n",
      "2\n",
      "3\n",
      "5\n",
      "8\n",
      "13\n",
      "21\n",
      "34\n",
      "55\n",
      "89\n"
     ]
    }
   ],
   "source": [
    "i = int(input(\"Enter the term till which you want the fibonacci series to be displayed: \"))\n",
    "a = 0\n",
    "b = 1\n",
    "count = 0\n",
    "\n",
    "while count < i:\n",
    "    print(a)\n",
    "    a,b = b, a+b\n",
    "    count += 1"
   ]
  },
  {
   "cell_type": "code",
   "execution_count": null,
   "id": "6bea3ef3-36f8-426f-ad2f-503b02aa29e2",
   "metadata": {},
   "outputs": [],
   "source": []
  }
 ],
 "metadata": {
  "kernelspec": {
   "display_name": "Python 3 (ipykernel)",
   "language": "python",
   "name": "python3"
  },
  "language_info": {
   "codemirror_mode": {
    "name": "ipython",
    "version": 3
   },
   "file_extension": ".py",
   "mimetype": "text/x-python",
   "name": "python",
   "nbconvert_exporter": "python",
   "pygments_lexer": "ipython3",
   "version": "3.13.5"
  }
 },
 "nbformat": 4,
 "nbformat_minor": 5
}
